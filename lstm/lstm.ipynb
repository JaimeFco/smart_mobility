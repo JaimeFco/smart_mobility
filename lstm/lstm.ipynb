{
 "cells": [
  {
   "cell_type": "code",
   "execution_count": 1,
   "metadata": {},
   "outputs": [
    {
     "name": "stderr",
     "output_type": "stream",
     "text": [
      "Using TensorFlow backend.\n"
     ]
    }
   ],
   "source": [
    "import pandas as pd\n",
    "import os\n",
    "import numpy as np\n",
    "import matplotlib.pyplot as plt\n",
    "import collections\n",
    "from matplotlib import cm\n",
    "import tensorflow as tf\n",
    "import keras"
   ]
  },
  {
   "cell_type": "code",
   "execution_count": 2,
   "metadata": {},
   "outputs": [],
   "source": [
    "df = pd.read_csv(\"/Users/jaimefco/Documents/Smart Mobility/toy_example/data/countsDataframe.csv\", index_col=0)"
   ]
  },
  {
   "cell_type": "code",
   "execution_count": 3,
   "metadata": {},
   "outputs": [
    {
     "data": {
      "text/html": [
       "<div>\n",
       "<style scoped>\n",
       "    .dataframe tbody tr th:only-of-type {\n",
       "        vertical-align: middle;\n",
       "    }\n",
       "\n",
       "    .dataframe tbody tr th {\n",
       "        vertical-align: top;\n",
       "    }\n",
       "\n",
       "    .dataframe thead th {\n",
       "        text-align: right;\n",
       "    }\n",
       "</style>\n",
       "<table border=\"1\" class=\"dataframe\">\n",
       "  <thead>\n",
       "    <tr style=\"text-align: right;\">\n",
       "      <th></th>\n",
       "      <th>140</th>\n",
       "      <th>141</th>\n",
       "      <th>236</th>\n",
       "      <th>237</th>\n",
       "      <th>262</th>\n",
       "      <th>263</th>\n",
       "    </tr>\n",
       "  </thead>\n",
       "  <tbody>\n",
       "    <tr>\n",
       "      <th>count</th>\n",
       "      <td>13104.000000</td>\n",
       "      <td>13104.000000</td>\n",
       "      <td>13104.000000</td>\n",
       "      <td>13104.000000</td>\n",
       "      <td>13104.000000</td>\n",
       "      <td>13104.000000</td>\n",
       "    </tr>\n",
       "    <tr>\n",
       "      <th>mean</th>\n",
       "      <td>12.540140</td>\n",
       "      <td>15.437576</td>\n",
       "      <td>31.189255</td>\n",
       "      <td>27.371337</td>\n",
       "      <td>10.539606</td>\n",
       "      <td>12.903007</td>\n",
       "    </tr>\n",
       "    <tr>\n",
       "      <th>std</th>\n",
       "      <td>7.543351</td>\n",
       "      <td>9.261896</td>\n",
       "      <td>22.464035</td>\n",
       "      <td>19.613321</td>\n",
       "      <td>6.360110</td>\n",
       "      <td>7.585860</td>\n",
       "    </tr>\n",
       "    <tr>\n",
       "      <th>min</th>\n",
       "      <td>0.000000</td>\n",
       "      <td>0.000000</td>\n",
       "      <td>0.000000</td>\n",
       "      <td>0.000000</td>\n",
       "      <td>0.000000</td>\n",
       "      <td>0.000000</td>\n",
       "    </tr>\n",
       "    <tr>\n",
       "      <th>25%</th>\n",
       "      <td>5.000000</td>\n",
       "      <td>6.000000</td>\n",
       "      <td>8.000000</td>\n",
       "      <td>7.000000</td>\n",
       "      <td>5.000000</td>\n",
       "      <td>6.000000</td>\n",
       "    </tr>\n",
       "    <tr>\n",
       "      <th>50%</th>\n",
       "      <td>13.000000</td>\n",
       "      <td>17.000000</td>\n",
       "      <td>33.000000</td>\n",
       "      <td>29.000000</td>\n",
       "      <td>11.000000</td>\n",
       "      <td>14.000000</td>\n",
       "    </tr>\n",
       "    <tr>\n",
       "      <th>75%</th>\n",
       "      <td>19.000000</td>\n",
       "      <td>23.000000</td>\n",
       "      <td>50.000000</td>\n",
       "      <td>44.000000</td>\n",
       "      <td>15.000000</td>\n",
       "      <td>19.000000</td>\n",
       "    </tr>\n",
       "    <tr>\n",
       "      <th>max</th>\n",
       "      <td>37.000000</td>\n",
       "      <td>44.000000</td>\n",
       "      <td>93.000000</td>\n",
       "      <td>89.000000</td>\n",
       "      <td>35.000000</td>\n",
       "      <td>39.000000</td>\n",
       "    </tr>\n",
       "  </tbody>\n",
       "</table>\n",
       "</div>"
      ],
      "text/plain": [
       "                140           141           236           237           262  \\\n",
       "count  13104.000000  13104.000000  13104.000000  13104.000000  13104.000000   \n",
       "mean      12.540140     15.437576     31.189255     27.371337     10.539606   \n",
       "std        7.543351      9.261896     22.464035     19.613321      6.360110   \n",
       "min        0.000000      0.000000      0.000000      0.000000      0.000000   \n",
       "25%        5.000000      6.000000      8.000000      7.000000      5.000000   \n",
       "50%       13.000000     17.000000     33.000000     29.000000     11.000000   \n",
       "75%       19.000000     23.000000     50.000000     44.000000     15.000000   \n",
       "max       37.000000     44.000000     93.000000     89.000000     35.000000   \n",
       "\n",
       "                263  \n",
       "count  13104.000000  \n",
       "mean      12.903007  \n",
       "std        7.585860  \n",
       "min        0.000000  \n",
       "25%        6.000000  \n",
       "50%       14.000000  \n",
       "75%       19.000000  \n",
       "max       39.000000  "
      ]
     },
     "execution_count": 3,
     "metadata": {},
     "output_type": "execute_result"
    }
   ],
   "source": [
    "df.describe()"
   ]
  },
  {
   "cell_type": "code",
   "execution_count": 4,
   "metadata": {},
   "outputs": [
    {
     "data": {
      "text/html": [
       "<div>\n",
       "<style scoped>\n",
       "    .dataframe tbody tr th:only-of-type {\n",
       "        vertical-align: middle;\n",
       "    }\n",
       "\n",
       "    .dataframe tbody tr th {\n",
       "        vertical-align: top;\n",
       "    }\n",
       "\n",
       "    .dataframe thead th {\n",
       "        text-align: right;\n",
       "    }\n",
       "</style>\n",
       "<table border=\"1\" class=\"dataframe\">\n",
       "  <thead>\n",
       "    <tr style=\"text-align: right;\">\n",
       "      <th></th>\n",
       "      <th>140</th>\n",
       "      <th>141</th>\n",
       "      <th>236</th>\n",
       "      <th>237</th>\n",
       "      <th>262</th>\n",
       "      <th>263</th>\n",
       "    </tr>\n",
       "  </thead>\n",
       "  <tbody>\n",
       "    <tr>\n",
       "      <th>7859400</th>\n",
       "      <td>8</td>\n",
       "      <td>9</td>\n",
       "      <td>12</td>\n",
       "      <td>12</td>\n",
       "      <td>9</td>\n",
       "      <td>8</td>\n",
       "    </tr>\n",
       "    <tr>\n",
       "      <th>7860000</th>\n",
       "      <td>12</td>\n",
       "      <td>12</td>\n",
       "      <td>13</td>\n",
       "      <td>11</td>\n",
       "      <td>8</td>\n",
       "      <td>7</td>\n",
       "    </tr>\n",
       "    <tr>\n",
       "      <th>7860600</th>\n",
       "      <td>9</td>\n",
       "      <td>10</td>\n",
       "      <td>11</td>\n",
       "      <td>9</td>\n",
       "      <td>5</td>\n",
       "      <td>8</td>\n",
       "    </tr>\n",
       "    <tr>\n",
       "      <th>7861200</th>\n",
       "      <td>7</td>\n",
       "      <td>10</td>\n",
       "      <td>11</td>\n",
       "      <td>7</td>\n",
       "      <td>6</td>\n",
       "      <td>6</td>\n",
       "    </tr>\n",
       "    <tr>\n",
       "      <th>7861800</th>\n",
       "      <td>6</td>\n",
       "      <td>9</td>\n",
       "      <td>9</td>\n",
       "      <td>8</td>\n",
       "      <td>4</td>\n",
       "      <td>10</td>\n",
       "    </tr>\n",
       "  </tbody>\n",
       "</table>\n",
       "</div>"
      ],
      "text/plain": [
       "         140  141  236  237  262  263\n",
       "7859400    8    9   12   12    9    8\n",
       "7860000   12   12   13   11    8    7\n",
       "7860600    9   10   11    9    5    8\n",
       "7861200    7   10   11    7    6    6\n",
       "7861800    6    9    9    8    4   10"
      ]
     },
     "execution_count": 4,
     "metadata": {},
     "output_type": "execute_result"
    }
   ],
   "source": [
    "df.tail()"
   ]
  },
  {
   "cell_type": "code",
   "execution_count": 5,
   "metadata": {},
   "outputs": [
    {
     "data": {
      "text/html": [
       "<div>\n",
       "<style scoped>\n",
       "    .dataframe tbody tr th:only-of-type {\n",
       "        vertical-align: middle;\n",
       "    }\n",
       "\n",
       "    .dataframe tbody tr th {\n",
       "        vertical-align: top;\n",
       "    }\n",
       "\n",
       "    .dataframe thead th {\n",
       "        text-align: right;\n",
       "    }\n",
       "</style>\n",
       "<table border=\"1\" class=\"dataframe\">\n",
       "  <thead>\n",
       "    <tr style=\"text-align: right;\">\n",
       "      <th></th>\n",
       "      <th>140</th>\n",
       "      <th>141</th>\n",
       "      <th>236</th>\n",
       "      <th>237</th>\n",
       "      <th>262</th>\n",
       "      <th>263</th>\n",
       "    </tr>\n",
       "  </thead>\n",
       "  <tbody>\n",
       "    <tr>\n",
       "      <th>0</th>\n",
       "      <td>0</td>\n",
       "      <td>0</td>\n",
       "      <td>0</td>\n",
       "      <td>0</td>\n",
       "      <td>0</td>\n",
       "      <td>0</td>\n",
       "    </tr>\n",
       "    <tr>\n",
       "      <th>600</th>\n",
       "      <td>8</td>\n",
       "      <td>11</td>\n",
       "      <td>12</td>\n",
       "      <td>11</td>\n",
       "      <td>5</td>\n",
       "      <td>10</td>\n",
       "    </tr>\n",
       "    <tr>\n",
       "      <th>1200</th>\n",
       "      <td>6</td>\n",
       "      <td>10</td>\n",
       "      <td>14</td>\n",
       "      <td>13</td>\n",
       "      <td>7</td>\n",
       "      <td>9</td>\n",
       "    </tr>\n",
       "    <tr>\n",
       "      <th>1800</th>\n",
       "      <td>7</td>\n",
       "      <td>10</td>\n",
       "      <td>9</td>\n",
       "      <td>9</td>\n",
       "      <td>8</td>\n",
       "      <td>9</td>\n",
       "    </tr>\n",
       "    <tr>\n",
       "      <th>2400</th>\n",
       "      <td>10</td>\n",
       "      <td>8</td>\n",
       "      <td>8</td>\n",
       "      <td>7</td>\n",
       "      <td>4</td>\n",
       "      <td>6</td>\n",
       "    </tr>\n",
       "  </tbody>\n",
       "</table>\n",
       "</div>"
      ],
      "text/plain": [
       "      140  141  236  237  262  263\n",
       "0       0    0    0    0    0    0\n",
       "600     8   11   12   11    5   10\n",
       "1200    6   10   14   13    7    9\n",
       "1800    7   10    9    9    8    9\n",
       "2400   10    8    8    7    4    6"
      ]
     },
     "execution_count": 5,
     "metadata": {},
     "output_type": "execute_result"
    }
   ],
   "source": [
    "df.head()"
   ]
  },
  {
   "cell_type": "code",
   "execution_count": 6,
   "metadata": {},
   "outputs": [
    {
     "data": {
      "text/plain": [
       "2183.8333333333335"
      ]
     },
     "execution_count": 6,
     "metadata": {},
     "output_type": "execute_result"
    }
   ],
   "source": [
    "7861800 / 3600 # Número de ejemplos que tendríamos"
   ]
  },
  {
   "cell_type": "code",
   "execution_count": 7,
   "metadata": {},
   "outputs": [
    {
     "data": {
      "text/plain": [
       "1637.25"
      ]
     },
     "execution_count": 7,
     "metadata": {},
     "output_type": "execute_result"
    }
   ],
   "source": [
    "2183 / 4 * 3 # Tamaño del conjunto de entrenamiento"
   ]
  },
  {
   "cell_type": "code",
   "execution_count": 8,
   "metadata": {},
   "outputs": [
    {
     "data": {
      "text/plain": [
       "(13104, 6)"
      ]
     },
     "execution_count": 8,
     "metadata": {},
     "output_type": "execute_result"
    }
   ],
   "source": [
    "df.values.shape"
   ]
  },
  {
   "cell_type": "code",
   "execution_count": 9,
   "metadata": {},
   "outputs": [
    {
     "data": {
      "text/plain": [
       "4368.0"
      ]
     },
     "execution_count": 9,
     "metadata": {},
     "output_type": "execute_result"
    }
   ],
   "source": [
    "13104 / 3"
   ]
  },
  {
   "cell_type": "code",
   "execution_count": 10,
   "metadata": {},
   "outputs": [],
   "source": [
    "X = []\n",
    "y = []"
   ]
  },
  {
   "cell_type": "code",
   "execution_count": 11,
   "metadata": {},
   "outputs": [],
   "source": [
    "for i in range(0, df.values.shape[0]-6, 3):\n",
    "    X.append(df.values[i:i+6])\n",
    "    y.append(df.values[i+6:i+9].flatten())"
   ]
  },
  {
   "cell_type": "code",
   "execution_count": null,
   "metadata": {},
   "outputs": [],
   "source": []
  },
  {
   "cell_type": "code",
   "execution_count": null,
   "metadata": {},
   "outputs": [],
   "source": []
  },
  {
   "cell_type": "code",
   "execution_count": 12,
   "metadata": {},
   "outputs": [
    {
     "name": "stderr",
     "output_type": "stream",
     "text": [
      "WARNING: Logging before flag parsing goes to stderr.\n",
      "W0822 10:31:37.482054 4576470464 deprecation_wrapper.py:119] From /Users/jaimefco/venv/lib/python3.7/site-packages/keras/backend/tensorflow_backend.py:74: The name tf.get_default_graph is deprecated. Please use tf.compat.v1.get_default_graph instead.\n",
      "\n",
      "W0822 10:31:37.510993 4576470464 deprecation_wrapper.py:119] From /Users/jaimefco/venv/lib/python3.7/site-packages/keras/backend/tensorflow_backend.py:517: The name tf.placeholder is deprecated. Please use tf.compat.v1.placeholder instead.\n",
      "\n",
      "W0822 10:31:37.516023 4576470464 deprecation_wrapper.py:119] From /Users/jaimefco/venv/lib/python3.7/site-packages/keras/backend/tensorflow_backend.py:4138: The name tf.random_uniform is deprecated. Please use tf.random.uniform instead.\n",
      "\n"
     ]
    },
    {
     "name": "stdout",
     "output_type": "stream",
     "text": [
      "_________________________________________________________________\n",
      "Layer (type)                 Output Shape              Param #   \n",
      "=================================================================\n",
      "lstm_1 (LSTM)                (None, 6, 16)             1472      \n",
      "_________________________________________________________________\n",
      "lstm_2 (LSTM)                (None, 6, 16)             2112      \n",
      "_________________________________________________________________\n",
      "flatten_1 (Flatten)          (None, 96)                0         \n",
      "_________________________________________________________________\n",
      "dense_1 (Dense)              (None, 32)                3104      \n",
      "_________________________________________________________________\n",
      "dense_2 (Dense)              (None, 18)                594       \n",
      "=================================================================\n",
      "Total params: 7,282\n",
      "Trainable params: 7,282\n",
      "Non-trainable params: 0\n",
      "_________________________________________________________________\n"
     ]
    }
   ],
   "source": [
    "model = keras.Sequential()\n",
    "\n",
    "model.add(keras.layers.LSTM(16, input_shape=(6, 6), unroll=True, return_sequences=True))\n",
    "model.add(keras.layers.LSTM(16, unroll=True, return_sequences=True))\n",
    "model.add(keras.layers.Flatten())\n",
    "model.add(keras.layers.Dense(32))\n",
    "model.add(keras.layers.Dense(18))\n",
    "\n",
    "model.summary() # To avoid warnings upgrade to tensorflow 1.5.0"
   ]
  },
  {
   "cell_type": "code",
   "execution_count": 13,
   "metadata": {},
   "outputs": [
    {
     "name": "stderr",
     "output_type": "stream",
     "text": [
      "W0822 10:31:38.874412 4576470464 deprecation_wrapper.py:119] From /Users/jaimefco/venv/lib/python3.7/site-packages/keras/optimizers.py:790: The name tf.train.Optimizer is deprecated. Please use tf.compat.v1.train.Optimizer instead.\n",
      "\n"
     ]
    }
   ],
   "source": [
    "model.compile(loss='mean_squared_error', optimizer='rmsprop')"
   ]
  },
  {
   "cell_type": "code",
   "execution_count": 14,
   "metadata": {},
   "outputs": [
    {
     "data": {
      "text/plain": [
       "(4366, 6, 6)"
      ]
     },
     "execution_count": 14,
     "metadata": {},
     "output_type": "execute_result"
    }
   ],
   "source": [
    "trainX = np.array(X)\n",
    "trainX.shape"
   ]
  },
  {
   "cell_type": "code",
   "execution_count": 15,
   "metadata": {},
   "outputs": [
    {
     "data": {
      "text/plain": [
       "(4366, 18)"
      ]
     },
     "execution_count": 15,
     "metadata": {},
     "output_type": "execute_result"
    }
   ],
   "source": [
    "trainY = np.array(y)\n",
    "trainY.shape"
   ]
  },
  {
   "cell_type": "code",
   "execution_count": 27,
   "metadata": {
    "scrolled": true
   },
   "outputs": [
    {
     "name": "stdout",
     "output_type": "stream",
     "text": [
      "Train on 3493 samples, validate on 873 samples\n",
      "Epoch 1/20\n",
      " - 0s - loss: 13.2256 - val_loss: 16.1762\n",
      "Epoch 2/20\n",
      " - 0s - loss: 13.3004 - val_loss: 15.3564\n",
      "Epoch 3/20\n",
      " - 0s - loss: 13.2143 - val_loss: 18.8175\n",
      "Epoch 4/20\n",
      " - 0s - loss: 13.2070 - val_loss: 14.9965\n",
      "Epoch 5/20\n",
      " - 0s - loss: 13.2977 - val_loss: 15.4870\n",
      "Epoch 6/20\n",
      " - 0s - loss: 13.3345 - val_loss: 16.1177\n",
      "Epoch 7/20\n",
      " - 0s - loss: 13.2487 - val_loss: 15.2252\n",
      "Epoch 8/20\n",
      " - 0s - loss: 13.3059 - val_loss: 15.3881\n",
      "Epoch 9/20\n",
      " - 0s - loss: 13.1308 - val_loss: 16.7700\n",
      "Epoch 10/20\n",
      " - 0s - loss: 13.2629 - val_loss: 15.5680\n",
      "Epoch 11/20\n",
      " - 0s - loss: 13.0860 - val_loss: 17.6841\n",
      "Epoch 12/20\n",
      " - 0s - loss: 13.1971 - val_loss: 16.1010\n",
      "Epoch 13/20\n",
      " - 0s - loss: 13.1819 - val_loss: 15.0283\n",
      "Epoch 14/20\n",
      " - 0s - loss: 13.2254 - val_loss: 15.1192\n",
      "Epoch 15/20\n",
      " - 0s - loss: 13.0943 - val_loss: 15.8522\n",
      "Epoch 16/20\n",
      " - 0s - loss: 13.1192 - val_loss: 15.4286\n",
      "Epoch 17/20\n",
      " - 0s - loss: 13.0713 - val_loss: 15.1807\n",
      "Epoch 18/20\n",
      " - 0s - loss: 13.0992 - val_loss: 15.7637\n",
      "Epoch 19/20\n",
      " - 0s - loss: 13.0467 - val_loss: 15.5669\n",
      "Epoch 20/20\n",
      " - 0s - loss: 13.1366 - val_loss: 16.6460\n"
     ]
    }
   ],
   "source": [
    "history = model.fit(trainX[0:3493], trainY[0:3493],\n",
    "                    epochs=180,\n",
    "                    batch_size=64,\n",
    "                    validation_data=(trainX[3493:], trainY[3493:]),\n",
    "                    verbose=2)"
   ]
  },
  {
   "cell_type": "code",
   "execution_count": null,
   "metadata": {},
   "outputs": [],
   "source": []
  },
  {
   "cell_type": "code",
   "execution_count": 28,
   "metadata": {},
   "outputs": [],
   "source": [
    "aa = model.predict(trainX[3493:])\n",
    "aa = np.round(aa)"
   ]
  },
  {
   "cell_type": "code",
   "execution_count": 29,
   "metadata": {},
   "outputs": [],
   "source": [
    "D = np.abs(trainY[3493:] - aa) #/ (trainY[5239:]+0.0000001)"
   ]
  },
  {
   "cell_type": "code",
   "execution_count": 30,
   "metadata": {},
   "outputs": [
    {
     "data": {
      "text/plain": [
       "array([[23., 28., 62., ..., 51., 19., 22.],\n",
       "       [22., 26., 58., ..., 48., 18., 22.],\n",
       "       [18., 23., 48., ..., 39., 14., 19.],\n",
       "       ...,\n",
       "       [ 9., 12., 18., ..., 14.,  8., 10.],\n",
       "       [ 8., 10., 13., ...,  9.,  6.,  8.],\n",
       "       [ 8.,  9., 12., ...,  8.,  6.,  8.]], dtype=float32)"
      ]
     },
     "execution_count": 30,
     "metadata": {},
     "output_type": "execute_result"
    }
   ],
   "source": [
    "aa"
   ]
  },
  {
   "cell_type": "code",
   "execution_count": 31,
   "metadata": {},
   "outputs": [
    {
     "data": {
      "text/plain": [
       "array([[2., 6., 8., ..., 1., 3., 3.],\n",
       "       [3., 0., 5., ..., 1., 3., 1.],\n",
       "       [3., 1., 8., ..., 0., 2., 1.],\n",
       "       ...,\n",
       "       [1., 3., 2., ..., 1., 3., 0.],\n",
       "       [0., 1., 3., ..., 2., 2., 1.],\n",
       "       [1., 1., 1., ..., 0., 2., 2.]])"
      ]
     },
     "execution_count": 31,
     "metadata": {},
     "output_type": "execute_result"
    }
   ],
   "source": [
    "D"
   ]
  },
  {
   "cell_type": "code",
   "execution_count": 32,
   "metadata": {},
   "outputs": [
    {
     "name": "stdout",
     "output_type": "stream",
     "text": [
      "Mean: 2.7111492936235204, Std: 3.0614377063844307.\n"
     ]
    }
   ],
   "source": [
    "print(\"Mean: {0}, Std: {1}.\".format(D.mean(), D.std()))"
   ]
  },
  {
   "cell_type": "markdown",
   "metadata": {},
   "source": [
    "**The worse case**"
   ]
  },
  {
   "cell_type": "code",
   "execution_count": 33,
   "metadata": {},
   "outputs": [
    {
     "data": {
      "text/plain": [
       "array([[ 3.,  1.,  0.,  7.,  2.,  4.],\n",
       "       [ 4.,  8., 10.,  8.,  2.,  1.],\n",
       "       [ 9.,  7., 25., 31.,  0.,  4.]])"
      ]
     },
     "execution_count": 33,
     "metadata": {},
     "output_type": "execute_result"
    }
   ],
   "source": [
    "D[D.argmax()//18].reshape(3,6)"
   ]
  },
  {
   "cell_type": "code",
   "execution_count": 34,
   "metadata": {},
   "outputs": [
    {
     "data": {
      "text/plain": [
       "array([[18., 19., 38., 34., 14., 15.],\n",
       "       [17., 19., 41., 35., 14., 16.],\n",
       "       [19., 21., 46., 40., 15., 16.]], dtype=float32)"
      ]
     },
     "execution_count": 34,
     "metadata": {},
     "output_type": "execute_result"
    }
   ],
   "source": [
    "aa[D.argmax()//18].reshape(3,6)"
   ]
  },
  {
   "cell_type": "code",
   "execution_count": 35,
   "metadata": {},
   "outputs": [
    {
     "data": {
      "text/plain": [
       "array([[21, 18, 38, 27, 12, 11],\n",
       "       [21, 27, 51, 43, 16, 15],\n",
       "       [28, 28, 71, 71, 15, 20]])"
      ]
     },
     "execution_count": 35,
     "metadata": {},
     "output_type": "execute_result"
    }
   ],
   "source": [
    "trainY[3493 + D.argmax()//18].reshape(3,6)"
   ]
  },
  {
   "cell_type": "code",
   "execution_count": 36,
   "metadata": {},
   "outputs": [
    {
     "data": {
      "text/plain": [
       "array([[10,  9, 10, 11,  8,  6],\n",
       "       [ 7,  8, 18, 13,  8,  6],\n",
       "       [17, 12, 27, 20, 14,  9],\n",
       "       [13, 16, 31, 27, 12, 14],\n",
       "       [15, 14, 26, 21,  7, 12],\n",
       "       [19, 15, 32, 22, 16, 13]])"
      ]
     },
     "execution_count": 36,
     "metadata": {},
     "output_type": "execute_result"
    }
   ],
   "source": [
    "trainX[3493 + D.argmax()//18]"
   ]
  }
 ],
 "metadata": {
  "kernelspec": {
   "display_name": "venv",
   "language": "python",
   "name": "venv"
  },
  "language_info": {
   "codemirror_mode": {
    "name": "ipython",
    "version": 3
   },
   "file_extension": ".py",
   "mimetype": "text/x-python",
   "name": "python",
   "nbconvert_exporter": "python",
   "pygments_lexer": "ipython3",
   "version": "3.7.4"
  }
 },
 "nbformat": 4,
 "nbformat_minor": 2
}
